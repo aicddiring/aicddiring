{
 "cells": [
  {
   "cell_type": "code",
   "execution_count": 1,
   "metadata": {
    "execution": {
     "iopub.execute_input": "2020-10-30T01:24:06.440639Z",
     "iopub.status.busy": "2020-10-30T01:24:06.439800Z",
     "iopub.status.idle": "2020-10-30T01:24:13.655454Z",
     "shell.execute_reply": "2020-10-30T01:24:13.654811Z"
    },
    "id": "L1WtoaOHVrVh"
   },
   "outputs": [
    {
     "ename": "ModuleNotFoundError",
     "evalue": "No module named 'tensorflow'",
     "output_type": "error",
     "traceback": [
      "\u001b[1;31m---------------------------------------------------------------------------\u001b[0m",
      "\u001b[1;31mModuleNotFoundError\u001b[0m                       Traceback (most recent call last)",
      "\u001b[1;32m<ipython-input-1-2c571cd7ce30>\u001b[0m in \u001b[0;36m<module>\u001b[1;34m\u001b[0m\n\u001b[0;32m      3\u001b[0m \u001b[1;32mimport\u001b[0m \u001b[0mos\u001b[0m\u001b[1;33m\u001b[0m\u001b[1;33m\u001b[0m\u001b[0m\n\u001b[0;32m      4\u001b[0m \u001b[1;32mimport\u001b[0m \u001b[0mPIL\u001b[0m\u001b[1;33m\u001b[0m\u001b[1;33m\u001b[0m\u001b[0m\n\u001b[1;32m----> 5\u001b[1;33m \u001b[1;32mimport\u001b[0m \u001b[0mtensorflow\u001b[0m \u001b[1;32mas\u001b[0m \u001b[0mtf\u001b[0m\u001b[1;33m\u001b[0m\u001b[1;33m\u001b[0m\u001b[0m\n\u001b[0m\u001b[0;32m      6\u001b[0m \u001b[1;33m\u001b[0m\u001b[0m\n\u001b[0;32m      7\u001b[0m \u001b[1;32mfrom\u001b[0m \u001b[0mtensorflow\u001b[0m \u001b[1;32mimport\u001b[0m \u001b[0mkeras\u001b[0m\u001b[1;33m\u001b[0m\u001b[1;33m\u001b[0m\u001b[0m\n",
      "\u001b[1;31mModuleNotFoundError\u001b[0m: No module named 'tensorflow'"
     ]
    }
   ],
   "source": [
    "import matplotlib.pyplot as plt\n",
    "import numpy as np\n",
    "import os\n",
    "import PIL\n",
    "import tensorflow as tf\n",
    "\n",
    "from tensorflow import keras\n",
    "from tensorflow.keras import layers\n",
    "from tensorflow.keras.models import Sequential"
   ]
  },
  {
   "cell_type": "code",
   "execution_count": null,
   "metadata": {
    "execution": {
     "iopub.execute_input": "2020-10-30T01:24:13.662025Z",
     "iopub.status.busy": "2020-10-30T01:24:13.661321Z",
     "iopub.status.idle": "2020-10-30T01:24:21.084672Z",
     "shell.execute_reply": "2020-10-30T01:24:21.084039Z"
    },
    "id": "57CcilYSG0zv",
    "scrolled": true
   },
   "outputs": [],
   "source": [
    "import pathlib\n",
    "data_dir = \"C:\\Users\\flybo\\OneDrive\\바탕 화면\\2학년 자료\\2학년2학기\\객체지향언어와실습\\train\\flowers\"\n",
    "data_dir = pathlib.Path(data_dir)"
   ]
  },
  {
   "cell_type": "code",
   "execution_count": null,
   "metadata": {
    "execution": {
     "iopub.execute_input": "2020-10-30T01:24:21.089263Z",
     "iopub.status.busy": "2020-10-30T01:24:21.088609Z",
     "iopub.status.idle": "2020-10-30T01:24:21.103414Z",
     "shell.execute_reply": "2020-10-30T01:24:21.103845Z"
    },
    "id": "SbtTDYhOHZb6"
   },
   "outputs": [],
   "source": [
    "image_count = len(list(data_dir.glob('*/*.jpg')))\n",
    "print(image_count)"
   ]
  },
  {
   "cell_type": "code",
   "execution_count": null,
   "metadata": {
    "execution": {
     "iopub.execute_input": "2020-10-30T01:24:21.108168Z",
     "iopub.status.busy": "2020-10-30T01:24:21.107525Z",
     "iopub.status.idle": "2020-10-30T01:24:21.224676Z",
     "shell.execute_reply": "2020-10-30T01:24:21.225133Z"
    },
    "id": "N1loMlbYHeiJ",
    "scrolled": true
   },
   "outputs": [],
   "source": [
    "daisy = list(data_dir.glob('daisy/*'))\n",
    "PIL.Image.open(str(daisy[0]))"
   ]
  },
  {
   "cell_type": "code",
   "execution_count": null,
   "metadata": {
    "execution": {
     "iopub.execute_input": "2020-10-30T01:24:21.229563Z",
     "iopub.status.busy": "2020-10-30T01:24:21.228870Z",
     "iopub.status.idle": "2020-10-30T01:24:21.297185Z",
     "shell.execute_reply": "2020-10-30T01:24:21.297633Z"
    },
    "id": "RQbZBOTLHiUP"
   },
   "outputs": [],
   "source": [
    "PIL.Image.open(str(daisy[1]))"
   ]
  },
  {
   "cell_type": "code",
   "execution_count": null,
   "metadata": {
    "execution": {
     "iopub.execute_input": "2020-10-30T01:24:21.302262Z",
     "iopub.status.busy": "2020-10-30T01:24:21.301586Z",
     "iopub.status.idle": "2020-10-30T01:24:21.371389Z",
     "shell.execute_reply": "2020-10-30T01:24:21.371864Z"
    },
    "id": "HyQkfPGdHilw"
   },
   "outputs": [],
   "source": [
    "sunflowers = list(data_dir.glob('sunflowers/*'))\n",
    "PIL.Image.open(str(sunflowers[0]))"
   ]
  },
  {
   "cell_type": "code",
   "execution_count": null,
   "metadata": {
    "execution": {
     "iopub.execute_input": "2020-10-30T01:24:21.376317Z",
     "iopub.status.busy": "2020-10-30T01:24:21.375619Z",
     "iopub.status.idle": "2020-10-30T01:24:21.401527Z",
     "shell.execute_reply": "2020-10-30T01:24:21.401977Z"
    },
    "id": "wtlhWJPAHivf"
   },
   "outputs": [],
   "source": [
    "PIL.Image.open(str(sunflowers[1]))"
   ]
  },
  {
   "cell_type": "code",
   "execution_count": null,
   "metadata": {
    "execution": {
     "iopub.execute_input": "2020-10-30T01:24:21.406733Z",
     "iopub.status.busy": "2020-10-30T01:24:21.406000Z",
     "iopub.status.idle": "2020-10-30T01:24:21.408577Z",
     "shell.execute_reply": "2020-10-30T01:24:21.408057Z"
    },
    "id": "H74l2DoDI2XD"
   },
   "outputs": [],
   "source": [
    "batch_size = 32\n",
    "img_height = 180\n",
    "img_width = 180"
   ]
  },
  {
   "cell_type": "code",
   "execution_count": null,
   "metadata": {
    "execution": {
     "iopub.execute_input": "2020-10-30T01:24:21.413206Z",
     "iopub.status.busy": "2020-10-30T01:24:21.412424Z",
     "iopub.status.idle": "2020-10-30T01:24:30.119967Z",
     "shell.execute_reply": "2020-10-30T01:24:30.119342Z"
    },
    "id": "fIR0kRZiI_AT"
   },
   "outputs": [],
   "source": [
    "train_dataset = tf.keras.preprocessing.image_dataset_from_directory(\n",
    "  data_dir,\n",
    "  validation_split=0.2,\n",
    "  subset=\"training\",\n",
    "  seed=123,\n",
    "  image_size=(img_height, img_width),\n",
    "  batch_size=batch_size)"
   ]
  },
  {
   "cell_type": "code",
   "execution_count": null,
   "metadata": {
    "execution": {
     "iopub.execute_input": "2020-10-30T01:24:30.125013Z",
     "iopub.status.busy": "2020-10-30T01:24:30.124195Z",
     "iopub.status.idle": "2020-10-30T01:24:30.288998Z",
     "shell.execute_reply": "2020-10-30T01:24:30.288467Z"
    },
    "id": "iscU3UoVJBXj"
   },
   "outputs": [],
   "source": [
    "val_dataset = tf.keras.preprocessing.image_dataset_from_directory(\n",
    "  data_dir,\n",
    "  validation_split=0.2,\n",
    "  subset=\"validation\",\n",
    "  seed=123,\n",
    "  image_size=(img_height, img_width),\n",
    "  batch_size=batch_size)"
   ]
  },
  {
   "cell_type": "code",
   "execution_count": null,
   "metadata": {
    "execution": {
     "iopub.execute_input": "2020-10-30T01:24:30.293706Z",
     "iopub.status.busy": "2020-10-30T01:24:30.292985Z",
     "iopub.status.idle": "2020-10-30T01:24:30.296175Z",
     "shell.execute_reply": "2020-10-30T01:24:30.295553Z"
    },
    "id": "ZHAxkHX5JD3k"
   },
   "outputs": [],
   "source": [
    "class_names = train_dataset.class_names\n",
    "print(class_names)"
   ]
  },
  {
   "cell_type": "code",
   "execution_count": null,
   "metadata": {
    "execution": {
     "iopub.execute_input": "2020-10-30T01:24:30.303321Z",
     "iopub.status.busy": "2020-10-30T01:24:30.302618Z",
     "iopub.status.idle": "2020-10-30T01:24:31.405666Z",
     "shell.execute_reply": "2020-10-30T01:24:31.406123Z"
    },
    "id": "wBmEA9c0JYes"
   },
   "outputs": [],
   "source": [
    "import matplotlib.pyplot as plt\n",
    "\n",
    "plt.figure(figsize=(10, 10))\n",
    "for images, labels in train_dataset.take(1):\n",
    "  for i in range(9):\n",
    "    ax = plt.subplot(3, 3, i + 1)\n",
    "    plt.imshow(images[i].numpy().astype(\"uint8\"))\n",
    "    plt.title(class_names[labels[i]])\n",
    "    plt.axis(\"off\")"
   ]
  },
  {
   "cell_type": "code",
   "execution_count": null,
   "metadata": {
    "execution": {
     "iopub.execute_input": "2020-10-30T01:24:31.411357Z",
     "iopub.status.busy": "2020-10-30T01:24:31.410598Z",
     "iopub.status.idle": "2020-10-30T01:24:31.962504Z",
     "shell.execute_reply": "2020-10-30T01:24:31.962923Z"
    },
    "id": "2-MfMoenJi8s"
   },
   "outputs": [],
   "source": [
    "for image_batch, labels_batch in train_dataset:\n",
    "  print(image_batch.shape)\n",
    "  print(labels_batch.shape)\n",
    "  break"
   ]
  },
  {
   "cell_type": "code",
   "execution_count": null,
   "metadata": {
    "execution": {
     "iopub.execute_input": "2020-10-30T01:24:31.968287Z",
     "iopub.status.busy": "2020-10-30T01:24:31.967543Z",
     "iopub.status.idle": "2020-10-30T01:24:31.971167Z",
     "shell.execute_reply": "2020-10-30T01:24:31.971581Z"
    },
    "id": "nOjJSm7DKoZA"
   },
   "outputs": [],
   "source": [
    "AUTOTUNE = tf.data.experimental.AUTOTUNE\n",
    "\n",
    "train_dataset = train_dataset.cache().shuffle(1000).prefetch(buffer_size=AUTOTUNE)\n",
    "val_dataset = val_dataset.cache().prefetch(buffer_size=AUTOTUNE)"
   ]
  },
  {
   "cell_type": "code",
   "execution_count": null,
   "metadata": {
    "execution": {
     "iopub.execute_input": "2020-10-30T01:24:31.976098Z",
     "iopub.status.busy": "2020-10-30T01:24:31.975425Z",
     "iopub.status.idle": "2020-10-30T01:24:31.980639Z",
     "shell.execute_reply": "2020-10-30T01:24:31.981091Z"
    },
    "id": "PEYxo2CTJvY9"
   },
   "outputs": [],
   "source": [
    "normalization_layer = layers.experimental.preprocessing.Rescaling(1./255)"
   ]
  },
  {
   "cell_type": "code",
   "execution_count": null,
   "metadata": {
    "execution": {
     "iopub.execute_input": "2020-10-30T01:24:31.986866Z",
     "iopub.status.busy": "2020-10-30T01:24:31.985757Z",
     "iopub.status.idle": "2020-10-30T01:24:37.791973Z",
     "shell.execute_reply": "2020-10-30T01:24:37.791447Z"
    },
    "id": "X9o9ESaJJ502"
   },
   "outputs": [],
   "source": [
    "normalized_ds = train_dataset.map(lambda x, y: (normalization_layer(x), y))\n",
    "image_batch, labels_batch = next(iter(normalized_ds))\n",
    "first_image = image_batch[0]\n",
    "# Notice the pixels values are now in `[0,1]`.\n",
    "print(np.min(first_image), np.max(first_image)) "
   ]
  },
  {
   "cell_type": "code",
   "execution_count": null,
   "metadata": {
    "execution": {
     "iopub.execute_input": "2020-10-30T01:24:51.193534Z",
     "iopub.status.busy": "2020-10-30T01:24:51.192853Z",
     "iopub.status.idle": "2020-10-30T01:24:51.301350Z",
     "shell.execute_reply": "2020-10-30T01:24:51.301800Z"
    },
    "id": "9J80BAbIMs21"
   },
   "outputs": [],
   "source": [
    "data_augmentation = keras.Sequential(\n",
    "  [\n",
    "    layers.experimental.preprocessing.RandomFlip(\"horizontal\", \n",
    "                                                 input_shape=(img_height, \n",
    "                                                              img_width,\n",
    "                                                              3)),\n",
    "    layers.experimental.preprocessing.RandomRotation(0.1),\n",
    "    layers.experimental.preprocessing.RandomZoom(0.1),\n",
    "  ]\n",
    ")"
   ]
  },
  {
   "cell_type": "code",
   "execution_count": null,
   "metadata": {
    "execution": {
     "iopub.execute_input": "2020-10-30T01:24:51.308597Z",
     "iopub.status.busy": "2020-10-30T01:24:51.307724Z",
     "iopub.status.idle": "2020-10-30T01:24:51.830037Z",
     "shell.execute_reply": "2020-10-30T01:24:51.830505Z"
    },
    "id": "7Z90k539S838"
   },
   "outputs": [],
   "source": [
    "plt.figure(figsize=(10, 10))\n",
    "for images, _ in train_dataset.take(1):\n",
    "  for i in range(9):\n",
    "    augmented_images = data_augmentation(images)\n",
    "    ax = plt.subplot(3, 3, i + 1)\n",
    "    plt.imshow(augmented_images[0].numpy().astype(\"uint8\"))\n",
    "    plt.axis(\"off\")"
   ]
  },
  {
   "cell_type": "code",
   "execution_count": null,
   "metadata": {
    "execution": {
     "iopub.execute_input": "2020-10-30T01:24:51.973276Z",
     "iopub.status.busy": "2020-10-30T01:24:51.972526Z",
     "iopub.status.idle": "2020-10-30T01:24:52.115876Z",
     "shell.execute_reply": "2020-10-30T01:24:52.115252Z"
    },
    "id": "2Zeg8zsqXCsm"
   },
   "outputs": [],
   "source": [
    "model = Sequential([\n",
    "  data_augmentation,\n",
    "  layers.experimental.preprocessing.Rescaling(1./255),\n",
    "  layers.Conv2D(16, 3, padding='same', activation='relu'),\n",
    "  layers.MaxPooling2D(),\n",
    "  layers.Conv2D(32, 3, padding='same', activation='relu'),\n",
    "  layers.MaxPooling2D(),\n",
    "  layers.Conv2D(64, 3, padding='same', activation='relu'),\n",
    "  layers.MaxPooling2D(),\n",
    "  layers.Dropout(0.2),\n",
    "  layers.Flatten(),\n",
    "  layers.Dense(128, activation='relu'),\n",
    "  layers.Dense(num_classes)\n",
    "])"
   ]
  },
  {
   "cell_type": "code",
   "execution_count": null,
   "metadata": {
    "execution": {
     "iopub.execute_input": "2020-10-30T01:24:52.126087Z",
     "iopub.status.busy": "2020-10-30T01:24:52.125380Z",
     "iopub.status.idle": "2020-10-30T01:24:52.130243Z",
     "shell.execute_reply": "2020-10-30T01:24:52.130688Z"
    },
    "id": "EvyAINs9ZOmJ"
   },
   "outputs": [],
   "source": [
    "model.compile(optimizer='adam',\n",
    "              loss=tf.keras.losses.SparseCategoricalCrossentropy(from_logits=True),\n",
    "              metrics=['accuracy'])"
   ]
  },
  {
   "cell_type": "code",
   "execution_count": null,
   "metadata": {
    "execution": {
     "iopub.execute_input": "2020-10-30T01:24:52.137492Z",
     "iopub.status.busy": "2020-10-30T01:24:52.136503Z",
     "iopub.status.idle": "2020-10-30T01:24:52.141822Z",
     "shell.execute_reply": "2020-10-30T01:24:52.142237Z"
    },
    "id": "wWLkKoKjZSoC"
   },
   "outputs": [],
   "source": [
    "model.summary()"
   ]
  },
  {
   "cell_type": "code",
   "execution_count": null,
   "metadata": {
    "execution": {
     "iopub.execute_input": "2020-10-30T01:24:52.146661Z",
     "iopub.status.busy": "2020-10-30T01:24:52.145980Z",
     "iopub.status.idle": "2020-10-30T01:25:10.127193Z",
     "shell.execute_reply": "2020-10-30T01:25:10.126597Z"
    },
    "id": "LWS-vvNaZDag"
   },
   "outputs": [],
   "source": [
    "epochs = 15\n",
    "history = model.fit(\n",
    "  train_dataset,\n",
    "  valid=val_dataset,\n",
    "  epochs=epochs\n",
    ")"
   ]
  },
  {
   "cell_type": "code",
   "execution_count": null,
   "metadata": {
    "execution": {
     "iopub.execute_input": "2020-10-30T01:25:10.147587Z",
     "iopub.status.busy": "2020-10-30T01:25:10.146828Z",
     "iopub.status.idle": "2020-10-30T01:25:10.376215Z",
     "shell.execute_reply": "2020-10-30T01:25:10.376663Z"
    },
    "id": "dduoLfKsZVIA"
   },
   "outputs": [],
   "source": [
    "acc = history.history['accuracy']\n",
    "val_acc = history.history['val_accuracy']\n",
    "\n",
    "loss = history.history['loss']\n",
    "val_loss = history.history['val_loss']\n",
    "\n",
    "epochs_range = range(epochs)\n",
    "\n",
    "plt.figure(figsize=(8, 8))\n",
    "plt.subplot(1, 2, 1)\n",
    "plt.plot(epochs_range, acc, label='Training Accuracy')\n",
    "plt.plot(epochs_range, val_acc, label='Validation Accuracy')\n",
    "plt.legend(loc='lower right')\n",
    "plt.title('Training and Validation Accuracy')\n",
    "\n",
    "plt.subplot(1, 2, 2)\n",
    "plt.plot(epochs_range, loss, label='Training Loss')\n",
    "plt.plot(epochs_range, val_loss, label='Validation Loss')\n",
    "plt.legend(loc='upper right')\n",
    "plt.title('Training and Validation Loss')\n",
    "plt.show()"
   ]
  },
  {
   "cell_type": "code",
   "execution_count": 1,
   "metadata": {
    "execution": {
     "iopub.execute_input": "2020-10-30T01:25:10.383560Z",
     "iopub.status.busy": "2020-10-30T01:25:10.382840Z",
     "iopub.status.idle": "2020-10-30T01:25:10.707551Z",
     "shell.execute_reply": "2020-10-30T01:25:10.706968Z"
    },
    "id": "dC40sRITBSsQ"
   },
   "outputs": [
    {
     "ename": "SyntaxError",
     "evalue": "invalid syntax (<ipython-input-1-069a70a5f641>, line 1)",
     "output_type": "error",
     "traceback": [
      "\u001b[1;36m  File \u001b[1;32m\"<ipython-input-1-069a70a5f641>\"\u001b[1;36m, line \u001b[1;32m1\u001b[0m\n\u001b[1;33m    test_flower_path = \"\"C:\\Users\\flybo\\OneDrive\\바탕 화면\\2학년 자료\\2학년2학기\\객체지향언어와실습\\train\\valid\\aa\"\u001b[0m\n\u001b[1;37m                         ^\u001b[0m\n\u001b[1;31mSyntaxError\u001b[0m\u001b[1;31m:\u001b[0m invalid syntax\n"
     ]
    }
   ],
   "source": [
    "#test데이터는 경로내에서 지정 후 변경\n",
    "test_flower_path = \"C:\\Users\\flybo\\OneDrive\\바탕 화면\\2학년 자료\\2학년2학기\\객체지향언어와실습\\train\\valid\\aa\"\n",
    "img = keras.preprocessing.image.load_img(\n",
    "    test_flower_path, target_size=(img_height, img_width)\n",
    ")\n",
    "img_array = keras.preprocessing.image.img_to_array(img)\n",
    "img_array = tf.expand_dims(img_array, 0)\n",
    "\n",
    "predictions = model.predict(img_array)\n",
    "score = tf.nn.softmax(predictions[0])\n",
    "\n",
    "print(\n",
    "    \"This image most likely belongs to {} with a {:.2f} percent confidence.\"\n",
    "    .format(class_names[np.argmax(score)], 100 * np.max(score))\n",
    ")"
   ]
  }
 ],
 "metadata": {
  "accelerator": "GPU",
  "colab": {
   "collapsed_sections": [],
   "name": "classification.ipynb",
   "toc_visible": true
  },
  "kernelspec": {
   "display_name": "Python 3",
   "language": "python",
   "name": "python3"
  },
  "language_info": {
   "codemirror_mode": {
    "name": "ipython",
    "version": 3
   },
   "file_extension": ".py",
   "mimetype": "text/x-python",
   "name": "python",
   "nbconvert_exporter": "python",
   "pygments_lexer": "ipython3",
   "version": "3.8.5"
  }
 },
 "nbformat": 4,
 "nbformat_minor": 1
}
